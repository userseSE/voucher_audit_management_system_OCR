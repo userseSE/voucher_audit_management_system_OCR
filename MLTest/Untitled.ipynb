{
 "cells": [
  {
   "cell_type": "code",
   "execution_count": 5,
   "id": "e119502a",
   "metadata": {
    "ExecuteTime": {
     "end_time": "2023-05-08T07:16:27.055949Z",
     "start_time": "2023-05-08T07:16:25.789076Z"
    }
   },
   "outputs": [
    {
     "name": "stdout",
     "output_type": "stream",
     "text": [
      "票据上的文字：\n",
      "朱腾 编 号 : 66103018H380\n",
      "\n",
      "发 票 代 码 :0510021001l1\n",
      "\n",
      "发 票 号 码 :M5890al\n",
      "\n",
      "开 票 期 : 2022 年 11 月 02 目\n",
      "\n",
      "核 验 码 :72395 62135 39388 80352\n",
      "\n",
      "购 名 称 : 四 川 大 学 5 01>41<4-~*58+493*6868*77>*/4\n",
      "买 皇 税 人 识 别 号 :121000004000091949 国 +309767589<0+----8+1>225782\n",
      "方 地 址 、 电 诵 >/42953*590<*+58<493*6865*27\n",
      "开 户 行 及 账 号 区 >4<++*29763589<4++99>*87640\n",
      "质 物 或 应 税 劲 务 、 服 务 名 称 规 格 型 号 | 单 位 数 量 单 价 金 颤 税 率 税 颜\n",
      "* 寒 饮 服 务 餐 饮 费 用 4 25100 25100| 免 税 E\n",
      "名 计 8251.00 d\n",
      "价 税 各 计 ( 大 冠 ) @ 成 佰 伸 挂 宫 国 整 ( 小 要 1251 .00\n",
      "销 名 称 : 国 家 税 务 总 局 成 郡 市 税 务 局 发 票 代 开 五 ( 任 开 机 关 代 开 企 业 税 导 97510H16MASITX6AX5 代 开 企 业 名 称 :\n",
      "售 皇 税 人 识 别 号 : 51 0 0000DK00328 ( 任 开 机 关 双 演 区 丹 红 林 莲 庞 。\n",
      "方 地 址 、 电 话 : 四 川 偏 成 都 市 双 洪 区 西 航 港 街道 13689088838 国\n",
      "开 户 行 及 账 寻 ( 宏 税 凭 认 』\n",
      "收 欠 : 复 核 开 票 人 ; 客 途 中 心 错 借 方 :(\n",
      "\n",
      "\n"
     ]
    }
   ],
   "source": [
    "import pytesseract\n",
    "from PIL import Image\n",
    "\n",
    "def ocr_receipt(image_path):\n",
    "    # 加载图片\n",
    "    image = Image.open(image_path)\n",
    "\n",
    "    # 对图片进行OCR识别\n",
    "    text = pytesseract.image_to_string(image, lang='chi_sim')\n",
    "\n",
    "    return text\n",
    "\n",
    "if __name__ == \"__main__\":\n",
    "    image_path = \"C:/Users/ASUS/Desktop/picture/invoice.jpeg\"\n",
    "    result = ocr_receipt(image_path)\n",
    "    print(\"票据上的文字：\")\n",
    "    print(result)"
   ]
  },
  {
   "cell_type": "code",
   "execution_count": 6,
   "id": "3f2baa0b",
   "metadata": {
    "ExecuteTime": {
     "end_time": "2023-05-08T07:17:18.545961Z",
     "start_time": "2023-05-08T07:17:17.262290Z"
    }
   },
   "outputs": [
    {
     "name": "stdout",
     "output_type": "stream",
     "text": [
      "票据上的文字：\n",
      "L tpag uahainneserae\n",
      "\n",
      "ensecoedogm\n",
      "aletisssutiss ces t\n",
      "\n",
      "Meceasetteiasy\n",
      "P\n",
      "\n",
      "ustuinenrsers\n",
      "\n",
      "F5XERHFEHHS | 5824 | 秉 | 言 二 万 干 斤 王 一 H]\n",
      "\n",
      "e n 4 E e [\n",
      "\n",
      ": | |\n",
      "H\n",
      "\n",
      "H \" euesze 1 1 atata 一\n",
      "[ 园 T T\n",
      "\n",
      "5n 一 一\n",
      "\n",
      "妻\n",
      "\n",
      "X7DL3520\n",
      "\n",
      "\n"
     ]
    }
   ],
   "source": [
    "import pytesseract\n",
    "from PIL import Image\n",
    "\n",
    "def ocr_receipt(image_path):\n",
    "    # 加载图片\n",
    "    image = Image.open(image_path)\n",
    "\n",
    "    # 对图片进行OCR识别\n",
    "    text = pytesseract.image_to_string(image, lang='chi_sim')\n",
    "\n",
    "    return text\n",
    "\n",
    "if __name__ == \"__main__\":\n",
    "    image_path = r\"C:\\Users\\ASUS\\Desktop\\picture\\picture.png\"\n",
    "    result = ocr_receipt(image_path)\n",
    "    print(\"票据上的文字：\")\n",
    "    print(result)"
   ]
  },
  {
   "cell_type": "code",
   "execution_count": 1,
   "id": "c95d9d13",
   "metadata": {
    "ExecuteTime": {
     "end_time": "2023-05-08T07:33:29.062274Z",
     "start_time": "2023-05-08T07:33:27.722704Z"
    }
   },
   "outputs": [
    {
     "name": "stdout",
     "output_type": "stream",
     "text": [
      "图像中的文字：\n",
      ",\n",
      "i REE Lh ORS ft a “o-\n",
      "SERA 8 BCE ee ae a\n",
      "ER MEST GEES GAT & Ne O2647316.cn 3\n",
      "ADRS ooh ee askin — ome | |\n",
      "Bo. ay LE KE #EUR eeeaKaT .\n",
      "LS a i\n",
      "Serene 2 LTE aexeuranes-26367ea5/1¢01929 : e\n",
      "SEG nsteteumneenraenn: co 077d lelnogeesenne bees\n",
      "SO aE ae exeenametennentens ncaa [YG O D6 91035905 |e\n",
      "ARABS, acarenearetisannmatrss s/t [ASP MoUEle oN x Bt\n",
      "AGuaacee ures | e2$ [40 ze, fa pay ee\n",
      "Sf eracmae ar Dw wae were [ox mole $\n",
      "g) 7 . dle\n",
      "Ei don + dpe\n",
      "5 - . csr an\n",
      "3]. yl\n",
      "3 . . a | v saya t\n",
      "q : : ie\n",
      "F ~ wonta 6 OME YS\n",
      "— # 16310,26 239.33 IE iO\n",
      "aL seettex | oanaveseumsange sy eure 1S | f\n",
      "ST /t__e: Gaenumanamsa anda ‘\n",
      "2] a [Resets sisioarznasrzsacne * ad AT) i ay\n",
      "- Eeltiaets manner og es ae\n",
      "RRA RA corr FaArawe >. MAINED ost i’ le\n",
      "\n"
     ]
    }
   ],
   "source": [
    "import cv2\n",
    "import pytesseract\n",
    "from PIL import Image\n",
    "\n",
    "def preprocess_image(image_path):\n",
    "    image = cv2.imread(image_path)\n",
    "    gray = cv2.cvtColor(image, cv2.COLOR_BGR2GRAY)\n",
    "    thresh = cv2.adaptiveThreshold(gray, 255, cv2.ADAPTIVE_THRESH_GAUSSIAN_C, cv2.THRESH_BINARY, 11, 2)\n",
    "    return thresh\n",
    "\n",
    "def ocr_image(image_path):\n",
    "    preprocessed_image = preprocess_image(image_path)\n",
    "    pil_image = Image.fromarray(preprocessed_image)\n",
    "\n",
    "    config = '--psm 6 --oem 3'\n",
    "    text = pytesseract.image_to_string(pil_image, config=config)\n",
    "\n",
    "    return text\n",
    "\n",
    "if __name__ == \"__main__\":\n",
    "    image_path = r\"C:\\Users\\ASUS\\Desktop\\picture\\picture.png\"\n",
    "    result = ocr_image(image_path)\n",
    "    print(\"图像中的文字：\")\n",
    "    print(result)"
   ]
  },
  {
   "cell_type": "code",
   "execution_count": 2,
   "id": "b6b784de",
   "metadata": {
    "ExecuteTime": {
     "end_time": "2023-05-08T07:33:47.899617Z",
     "start_time": "2023-05-08T07:33:47.787171Z"
    }
   },
   "outputs": [
    {
     "ename": "AttributeError",
     "evalue": "module 'cv2' has no attribute 'have_gst'",
     "output_type": "error",
     "traceback": [
      "\u001b[1;31m---------------------------------------------------------------------------\u001b[0m",
      "\u001b[1;31mAttributeError\u001b[0m                            Traceback (most recent call last)",
      "\u001b[1;32m<ipython-input-2-2dc3e89b785f>\u001b[0m in \u001b[0;36m<module>\u001b[1;34m\u001b[0m\n\u001b[0;32m      1\u001b[0m \u001b[1;32mimport\u001b[0m \u001b[0mcv2\u001b[0m\u001b[1;33m\u001b[0m\u001b[1;33m\u001b[0m\u001b[0m\n\u001b[0;32m      2\u001b[0m \u001b[1;33m\u001b[0m\u001b[0m\n\u001b[1;32m----> 3\u001b[1;33m \u001b[0mgstreamer_enabled\u001b[0m \u001b[1;33m=\u001b[0m \u001b[0mcv2\u001b[0m\u001b[1;33m.\u001b[0m\u001b[0mhave_gst\u001b[0m\u001b[1;33m(\u001b[0m\u001b[1;33m)\u001b[0m\u001b[1;33m\u001b[0m\u001b[1;33m\u001b[0m\u001b[0m\n\u001b[0m\u001b[0;32m      4\u001b[0m \u001b[0mprint\u001b[0m\u001b[1;33m(\u001b[0m\u001b[1;34m\"GStreamer支持:\"\u001b[0m\u001b[1;33m,\u001b[0m \u001b[0mgstreamer_enabled\u001b[0m\u001b[1;33m)\u001b[0m\u001b[1;33m\u001b[0m\u001b[1;33m\u001b[0m\u001b[0m\n",
      "\u001b[1;31mAttributeError\u001b[0m: module 'cv2' has no attribute 'have_gst'"
     ]
    }
   ],
   "source": [
    "import cv2\n",
    "\n",
    "gstreamer_enabled = cv2.have_gst()\n",
    "print(\"GStreamer支持:\", gstreamer_enabled)"
   ]
  },
  {
   "cell_type": "code",
   "execution_count": 3,
   "id": "de24a5e1",
   "metadata": {
    "ExecuteTime": {
     "end_time": "2023-05-08T07:33:55.201799Z",
     "start_time": "2023-05-08T07:33:55.192333Z"
    }
   },
   "outputs": [],
   "source": [
    "import cv2\n",
    "import pytesseract\n",
    "from PIL import Image\n",
    "\n",
    "def preprocess_image(image_path):\n",
    "    image = cv2.imread(image_path)\n",
    "    gray = cv2.cvtColor(image, cv2.COLOR_BGR2GRAY)\n",
    "    thresh = cv2.adaptiveThreshold(gray, 255, cv2.ADAPTIVE_THRESH_GAUSSIAN_C, cv2.THRESH_BINARY, 11, 2)\n",
    "    return thresh\n",
    "\n",
    "def ocr_image(image_path):\n",
    "    preprocessed_image = preprocess_image(image_path)\n",
    "    pil_image = Image.fromarray(preprocessed_image)\n",
    "\n",
    "    config = '--psm 6 --oem 3'\n",
    "    text = pytesseract.image_to_string(pil_image, config=config)\n",
    "\n",
    "    return text"
   ]
  },
  {
   "cell_type": "code",
   "execution_count": 4,
   "id": "3069e736",
   "metadata": {
    "ExecuteTime": {
     "end_time": "2023-05-08T07:34:18.872924Z",
     "start_time": "2023-05-08T07:34:18.115871Z"
    }
   },
   "outputs": [
    {
     "name": "stdout",
     "output_type": "stream",
     "text": [
      "图像中的文字：\n",
      ",\n",
      "i REE Lh ORS ft a “o-\n",
      "SERA 8 BCE ee ae a\n",
      "ER MEST GEES GAT & Ne O2647316.cn 3\n",
      "ADRS ooh ee askin — ome | |\n",
      "Bo. ay LE KE #EUR eeeaKaT .\n",
      "LS a i\n",
      "Serene 2 LTE aexeuranes-26367ea5/1¢01929 : e\n",
      "SEG nsteteumneenraenn: co 077d lelnogeesenne bees\n",
      "SO aE ae exeenametennentens ncaa [YG O D6 91035905 |e\n",
      "ARABS, acarenearetisannmatrss s/t [ASP MoUEle oN x Bt\n",
      "AGuaacee ures | e2$ [40 ze, fa pay ee\n",
      "Sf eracmae ar Dw wae were [ox mole $\n",
      "g) 7 . dle\n",
      "Ei don + dpe\n",
      "5 - . csr an\n",
      "3]. yl\n",
      "3 . . a | v saya t\n",
      "q : : ie\n",
      "F ~ wonta 6 OME YS\n",
      "— # 16310,26 239.33 IE iO\n",
      "aL seettex | oanaveseumsange sy eure 1S | f\n",
      "ST /t__e: Gaenumanamsa anda ‘\n",
      "2] a [Resets sisioarznasrzsacne * ad AT) i ay\n",
      "- Eeltiaets manner og es ae\n",
      "RRA RA corr FaArawe >. MAINED ost i’ le\n",
      "\n"
     ]
    }
   ],
   "source": [
    "image_path = r\"C:\\Users\\ASUS\\Desktop\\picture\\picture.png\"\n",
    "result = ocr_image(image_path)\n",
    "print(\"图像中的文字：\")\n",
    "print(result)\n"
   ]
  },
  {
   "cell_type": "code",
   "execution_count": 5,
   "id": "161a189a",
   "metadata": {
    "ExecuteTime": {
     "end_time": "2023-05-08T07:35:53.477342Z",
     "start_time": "2023-05-08T07:35:51.252075Z"
    }
   },
   "outputs": [
    {
     "name": "stdout",
     "output_type": "stream",
     "text": [
      "图像中的文字：\n",
      "`\n",
      "水 怀 伟 7 7 伟 27 一 口 .o-\n",
      "吴 厂 仁 grieoy 0\n",
      "p 2 t 友 艺\n",
      "吴 1 M ] 02697315emo\n",
      "欲 阮 人 e 1 - p 1\n",
      "许 sgze- 〉粼郾_<〉 ttiui 一\n",
      "y r t 吴 nnnonte ,\n",
      "etmmmr “ aaaoapmzar 目 国\n",
      "河 心 仪 sShecearms i 伟\n",
      "nntone i 门 cedattgyae 刀 @\n",
      "E ppypzngsgiien 一 0\n",
      "( FFNEKFKEHLS 一 83 氏 王 厂 平 斤 门 一 万 a 蓁兰 @\n",
      "司 -oanah a 洁 E 刑 E 达 a 语\n",
      "目 日 : 探 口\n",
      "'t富 。 - 6\n",
      "卵 5\n",
      ", 东 二 限\n",
      "寸 『 园\n",
      "酝 u 画 1 |\n",
      "` 彗 一 蓼藿 uttai a _曼 10\n",
      "切 snav 一 an 一 a “ 伟 13\n",
      "一 F “ 吴 RERanoman rmriripx 1\n",
      "仁 e , M a\n",
      "1 技 沥 沥 林 r 一 园 [ 乙 -\n",
      "E m咖 一 心 一 87 一 一\n",
      "\n"
     ]
    }
   ],
   "source": [
    "import cv2\n",
    "import pytesseract\n",
    "from PIL import Image\n",
    "\n",
    "def preprocess_image(image_path):\n",
    "    image = cv2.imread(image_path)\n",
    "    gray = cv2.cvtColor(image, cv2.COLOR_BGR2GRAY)\n",
    "    thresh = cv2.adaptiveThreshold(gray, 255, cv2.ADAPTIVE_THRESH_GAUSSIAN_C, cv2.THRESH_BINARY, 11, 2)\n",
    "    return thresh\n",
    "\n",
    "def ocr_image(image_path):\n",
    "    preprocessed_image = preprocess_image(image_path)\n",
    "    pil_image = Image.fromarray(preprocessed_image)\n",
    "\n",
    "    config = '--psm 6 --oem 3'\n",
    "    text = pytesseract.image_to_string(pil_image, lang='chi_sim', config=config)\n",
    "\n",
    "    return text\n",
    "\n",
    "if __name__ == \"__main__\":\n",
    "    image_path = r\"C:\\Users\\ASUS\\Desktop\\picture\\picture.png\"\n",
    "    result = ocr_image(image_path)\n",
    "    print(\"图像中的文字：\")\n",
    "    print(result)"
   ]
  },
  {
   "cell_type": "code",
   "execution_count": 1,
   "id": "8ed3e160",
   "metadata": {
    "ExecuteTime": {
     "end_time": "2023-05-08T07:42:49.546218Z",
     "start_time": "2023-05-08T07:42:45.321488Z"
    }
   },
   "outputs": [
    {
     "ename": "ModuleNotFoundError",
     "evalue": "No module named 'pytesseract'",
     "output_type": "error",
     "traceback": [
      "\u001b[1;31m---------------------------------------------------------------------------\u001b[0m",
      "\u001b[1;31mModuleNotFoundError\u001b[0m                       Traceback (most recent call last)",
      "Cell \u001b[1;32mIn[1], line 2\u001b[0m\n\u001b[0;32m      1\u001b[0m \u001b[39mimport\u001b[39;00m \u001b[39mcv2\u001b[39;00m\n\u001b[1;32m----> 2\u001b[0m \u001b[39mimport\u001b[39;00m \u001b[39mpytesseract\u001b[39;00m\n\u001b[0;32m      3\u001b[0m \u001b[39mfrom\u001b[39;00m \u001b[39mPIL\u001b[39;00m \u001b[39mimport\u001b[39;00m Image\n\u001b[0;32m      4\u001b[0m \u001b[39mimport\u001b[39;00m \u001b[39mmatplotlib\u001b[39;00m\u001b[39m.\u001b[39;00m\u001b[39mpyplot\u001b[39;00m \u001b[39mas\u001b[39;00m \u001b[39mplt\u001b[39;00m\n",
      "\u001b[1;31mModuleNotFoundError\u001b[0m: No module named 'pytesseract'"
     ]
    }
   ],
   "source": [
    "import cv2\n",
    "import pytesseract\n",
    "from PIL import Image\n",
    "import matplotlib.pyplot as plt\n",
    "\n",
    "def preprocess_image(image_path):\n",
    "    image = cv2.imread(image_path)\n",
    "    gray = cv2.cvtColor(image, cv2.COLOR_BGR2GRAY)\n",
    "    thresh = cv2.adaptiveThreshold(gray, 255, cv2.ADAPTIVE_THRESH_GAUSSIAN_C, cv2.THRESH_BINARY, 11, 2)\n",
    "    \n",
    "    # 显示灰度图\n",
    "    plt.imshow(gray, cmap='gray')\n",
    "    plt.title(\"Gray Image\")\n",
    "    plt.show()\n",
    "\n",
    "    # 显示二值图\n",
    "    plt.imshow(thresh, cmap='gray')\n",
    "    plt.title(\"Binary Image\")\n",
    "    plt.show()\n",
    "\n",
    "    return thresh\n",
    "\n",
    "def ocr_image(image_path):\n",
    "    preprocessed_image = preprocess_image(image_path)\n",
    "    pil_image = Image.fromarray(preprocessed_image)\n",
    "\n",
    "    # 显示PIL图像\n",
    "    plt.imshow(pil_image, cmap='gray')\n",
    "    plt.title(\"PIL Image\")\n",
    "    plt.show()\n",
    "\n",
    "    config = '--psm 6 --oem 3'\n",
    "    text = pytesseract.image_to_string(pil_image, lang='chi_sim', config=config)\n",
    "\n",
    "    return text\n",
    "\n",
    "if __name__ == \"__main__\":\n",
    "    image_path = r\"C:\\Users\\ASUS\\Desktop\\picture\\invoice.jpeg\"\n",
    "    result = ocr_image(image_path)\n",
    "    print(\"图像中的文字：\")\n",
    "    print(result)"
   ]
  },
  {
   "cell_type": "code",
   "execution_count": 3,
   "id": "68f80c13",
   "metadata": {
    "ExecuteTime": {
     "end_time": "2023-05-08T07:46:23.631857Z",
     "start_time": "2023-05-08T07:46:21.169176Z"
    }
   },
   "outputs": [
    {
     "ename": "ModuleNotFoundError",
     "evalue": "No module named 'pytesseract'",
     "output_type": "error",
     "traceback": [
      "\u001b[1;31m---------------------------------------------------------------------------\u001b[0m",
      "\u001b[1;31mModuleNotFoundError\u001b[0m                       Traceback (most recent call last)",
      "Cell \u001b[1;32mIn[3], line 2\u001b[0m\n\u001b[0;32m      1\u001b[0m \u001b[39mimport\u001b[39;00m \u001b[39mcv2\u001b[39;00m\n\u001b[1;32m----> 2\u001b[0m \u001b[39mimport\u001b[39;00m \u001b[39mpytesseract\u001b[39;00m\n\u001b[0;32m      3\u001b[0m \u001b[39mfrom\u001b[39;00m \u001b[39mPIL\u001b[39;00m \u001b[39mimport\u001b[39;00m Image\n\u001b[0;32m      4\u001b[0m \u001b[39mimport\u001b[39;00m \u001b[39mmatplotlib\u001b[39;00m\u001b[39m.\u001b[39;00m\u001b[39mpyplot\u001b[39;00m \u001b[39mas\u001b[39;00m \u001b[39mplt\u001b[39;00m\n",
      "\u001b[1;31mModuleNotFoundError\u001b[0m: No module named 'pytesseract'"
     ]
    }
   ],
   "source": [
    "import cv2\n",
    "import pytesseract\n",
    "from PIL import Image\n",
    "import matplotlib.pyplot as plt\n",
    "\n",
    "def preprocess_image(image_path):\n",
    "    image = cv2.imread(image_path)\n",
    "    gray = cv2.cvtColor(image, cv2.COLOR_BGR2GRAY)\n",
    "    thresh = cv2.adaptiveThreshold(gray, 255, cv2.ADAPTIVE_THRESH_GAUSSIAN_C, cv2.THRESH_BINARY, 11, 2)\n",
    "    \n",
    "    # 显示灰度图\n",
    "    plt.imshow(gray, cmap='gray')\n",
    "    plt.title(\"Gray Image\")\n",
    "    plt.show()\n",
    "\n",
    "    # 显示二值图\n",
    "    plt.imshow(thresh, cmap='gray')\n",
    "    plt.title(\"Binary Image\")\n",
    "    plt.show()\n",
    "\n",
    "    return thresh\n",
    "\n",
    "def ocr_image(image_path):\n",
    "    preprocessed_image = preprocess_image(image_path)\n",
    "    pil_image = Image.fromarray(preprocessed_image)\n",
    "\n",
    "    # 显示PIL图像\n",
    "    plt.imshow(pil_image, cmap='gray')\n",
    "    plt.title(\"PIL Image\")\n",
    "    plt.show()\n",
    "\n",
    "    config = '--psm 6 --oem 3'\n",
    "    text = pytesseract.image_to_string(pil_image, lang='chi_sim', config=config)\n",
    "\n",
    "    return text\n",
    "\n",
    "if __name__ == \"__main__\":\n",
    "    image_path = r\"C:/Users/ASUS/Desktop/picture/picture.png\"\n",
    "    result = ocr_image(image_path)\n",
    "    print(\"图像中的文字：\")\n",
    "    print(result)"
   ]
  },
  {
   "cell_type": "code",
   "execution_count": null,
   "id": "e26be72d",
   "metadata": {
    "ExecuteTime": {
     "start_time": "2023-05-08T09:21:43.106Z"
    }
   },
   "outputs": [],
   "source": [
    "import cv2\n",
    "import numpy as np\n",
    "\n",
    "# 读取图像并转换为灰度图像\n",
    "image = cv2.imread(r\"C:/Users/ASUS/Desktop/picture/picture.png\")\n",
    "gray_image = cv2.cvtColor(image, cv2.COLOR_BGR2GRAY)\n",
    "\n",
    "# 使用大津法将灰度图像转换为二值图像\n",
    "_, binary_image = cv2.threshold(gray_image, 0, 255, cv2.THRESH_BINARY + cv2.THRESH_OTSU)\n",
    "\n",
    "# 创建一个 3x3 的结构元素\n",
    "kernel = np.ones((3, 3), np.uint8)\n",
    "\n",
    "# 膨胀操作\n",
    "dilation = cv2.dilate(binary_image, kernel, iterations=1)\n",
    "\n",
    "# 腐蚀操作\n",
    "erosion = cv2.erode(binary_image, kernel, iterations=1)\n",
    "\n",
    "# 显示图像\n",
    "cv2.imshow(\"Original\", image)\n",
    "cv2.imshow(\"Binary\", binary_image)\n",
    "cv2.imshow(\"Dilation\", dilation)\n",
    "cv2.imshow(\"Erosion\", erosion)\n",
    "\n",
    "cv2.waitKey(0)\n",
    "cv2.destroyAllWindows()\n"
   ]
  },
  {
   "cell_type": "code",
   "execution_count": 11,
   "id": "a47c68b1",
   "metadata": {
    "ExecuteTime": {
     "end_time": "2023-05-08T08:11:24.202259Z",
     "start_time": "2023-05-08T08:11:21.972316Z"
    }
   },
   "outputs": [],
   "source": [
    "import cv2\n",
    "import pytesseract\n",
    "from PIL import Image\n",
    "import matplotlib.pyplot as plt\n",
    "config = '--psm 6 --oem 3'\n",
    "text = pytesseract.image_to_string(erosion, lang='chi_sim', config=config)"
   ]
  },
  {
   "cell_type": "code",
   "execution_count": 12,
   "id": "d3528e52",
   "metadata": {
    "ExecuteTime": {
     "end_time": "2023-05-08T08:11:24.248311Z",
     "start_time": "2023-05-08T08:11:24.236292Z"
    }
   },
   "outputs": [
    {
     "name": "stdout",
     "output_type": "stream",
     "text": [
      "图像中的文字：\n",
      "7 “ 伟\n",
      "=`』__蠕 农 英 务 的 国 7 骆 =\n",
      "P 斧 余 __._=lI_…ll_ 李\n",
      "aoaasaa 一 一\n",
      "薯'-= ‖蕾腹】\"__'-=- 白 二 d 雾'盅霞.君 《\n",
      "1 不 口 5 衍 子 芸 一 5\n",
      "E T 一\n",
      "羞 2 | _ ! 2\n",
      "_ '__ 蘑\"誓}… 日 \"_′二.'-.._--' e \"\"鼻. 辜 l\n",
      "心 鲈蟹蟹=霁 Wietlmetrse \" P 「 ?\n",
      "二::_'I-l - \"l 二 _!蘑 .a\"\n",
      ", CoC cCrmmC 一 chaxt 余 岌\n",
      ", 医 局 4\n",
      "\n"
     ]
    }
   ],
   "source": [
    "print(\"图像中的文字：\")\n",
    "print(text)"
   ]
  },
  {
   "cell_type": "code",
   "execution_count": 1,
   "id": "c2486b7c",
   "metadata": {
    "ExecuteTime": {
     "end_time": "2023-05-08T12:03:04.319961Z",
     "start_time": "2023-05-08T12:00:01.580594Z"
    }
   },
   "outputs": [],
   "source": [
    "import cv2\n",
    "import numpy as np\n",
    "\n",
    "\n",
    "image_path=r\"C:/Users/ASUS/Desktop/picture/invoice.jpeg\"\n",
    "# 读取图像并转换为灰度图像\n",
    "image = cv2.imread(image_path)\n",
    "gray_image = cv2.cvtColor(image, cv2.COLOR_BGR2GRAY)\n",
    "\n",
    "# 使用自适应阈值法将灰度图像转换为二值图像\n",
    "binary_image = cv2.adaptiveThreshold(gray_image, 255, cv2.ADAPTIVE_THRESH_GAUSSIAN_C, cv2.THRESH_BINARY, 11, 2)\n",
    "\n",
    "# 降噪（可选，这里使用中值滤波）\n",
    "denoised_image = cv2.medianBlur(binary_image, 3)\n",
    "\n",
    "# 创建一个 3x3 的结构元素\n",
    "kernel = np.ones((3, 3), np.uint8)\n",
    "\n",
    "# 膨胀操作\n",
    "dilation = cv2.dilate(denoised_image, kernel, iterations=1)\n",
    "\n",
    "# 腐蚀操作\n",
    "erosion = cv2.erode(denoised_image, kernel, iterations=1)\n",
    "\n",
    "# 显示图像\n",
    "cv2.imshow(\"Binary\", binary_image)\n",
    "cv2.imshow(\"Denoised\", denoised_image)\n",
    "cv2.imshow(\"Dilation\", dilation)\n",
    "cv2.imshow(\"Erosion\", erosion)\n",
    "#cv2.imshow(\"Preprocessed Image\", preprocessed_image)\n",
    "cv2.waitKey(0)\n",
    "cv2.destroyAllWindows()"
   ]
  },
  {
   "cell_type": "code",
   "execution_count": 8,
   "id": "0ba7d21a",
   "metadata": {},
   "outputs": [
    {
     "name": "stdout",
     "output_type": "stream",
     "text": [
      "^C\n",
      "Note: you may need to restart the kernel to use updated packages.\n"
     ]
    }
   ],
   "source": [
    "pip uninstall opencv-python"
   ]
  },
  {
   "cell_type": "code",
   "execution_count": 5,
   "id": "16f5d1d6",
   "metadata": {},
   "outputs": [
    {
     "name": "stdout",
     "output_type": "stream",
     "text": [
      "Looking in indexes: https://pypi.tuna.tsinghua.edu.cn/simple\n",
      "Collecting easyocr\n",
      "  Downloading https://pypi.tuna.tsinghua.edu.cn/packages/bc/7f/389e1a886ff219682b5a56ea84f91ed785999665ac9ec1f220c7fdcd150f/easyocr-1.6.2-py3-none-any.whl (2.9 MB)\n",
      "     ---------------------------------------- 2.9/2.9 MB 1.2 MB/s eta 0:00:00\n",
      "Collecting Pillow\n",
      "  Downloading https://pypi.tuna.tsinghua.edu.cn/packages/3e/14/0030e542f2acfea43635e55584c114e6cfd94d342393a5f71f74c172dc35/Pillow-9.5.0-cp310-cp310-win_amd64.whl (2.5 MB)\n",
      "     ---------------------------------------- 2.5/2.5 MB 1.4 MB/s eta 0:00:00\n",
      "Collecting pyclipper\n",
      "  Downloading https://pypi.tuna.tsinghua.edu.cn/packages/de/73/b8f63df0951f4a1eb498275236092073ff771f26d79a2b5be66aaf8802db/pyclipper-1.3.0.post4-cp310-cp310-win_amd64.whl (94 kB)\n",
      "     ---------------------------------------- 94.5/94.5 KB 1.8 MB/s eta 0:00:00\n",
      "Requirement already satisfied: numpy in d:\\anaconda\\envs\\mypyen\\lib\\site-packages (from easyocr) (1.24.3)\n",
      "Collecting ninja\n",
      "  Downloading https://pypi.tuna.tsinghua.edu.cn/packages/9d/74/71ef16dea18414acf7ca0da7a16e2fcb9f73d7a16d00879aed385840c720/ninja-1.11.1-py2.py3-none-win_amd64.whl (313 kB)\n",
      "     -------------------------------------- 313.0/313.0 KB 1.4 MB/s eta 0:00:00\n",
      "Collecting opencv-python-headless<=4.5.4.60\n",
      "  Downloading https://pypi.tuna.tsinghua.edu.cn/packages/af/98/54b279bd12181e50278e44ce359f27701f79591d5e34aee5d94f0aee9d87/opencv_python_headless-4.5.4.60-cp310-cp310-win_amd64.whl (35.0 MB)\n",
      "     ---------------------------------------- 35.0/35.0 MB 1.4 MB/s eta 0:00:00\n",
      "Collecting torch\n",
      "  Downloading https://pypi.tuna.tsinghua.edu.cn/packages/87/e2/62dbdfc85d3b8f771bc4b1a979ee6a157dbaa8928981dabbf45afc6d13dc/torch-2.0.0-cp310-cp310-win_amd64.whl (172.3 MB)\n",
      "     -------------------------------------- 172.3/172.3 MB 1.3 MB/s eta 0:00:00\n",
      "Collecting torchvision>=0.5\n",
      "  Downloading https://pypi.tuna.tsinghua.edu.cn/packages/03/06/6ba7532c66397defffb79f64cac46f812a29b2f87a4ad65a3e95bc164d62/torchvision-0.15.1-cp310-cp310-win_amd64.whl (1.2 MB)\n",
      "     ---------------------------------------- 1.2/1.2 MB 1.4 MB/s eta 0:00:00\n",
      "Collecting Shapely\n",
      "  Downloading https://pypi.tuna.tsinghua.edu.cn/packages/81/8a/7ac076a86b2632f1872284c5e60ed5f2fc26094875a85b35d9fa17b52504/shapely-2.0.1-cp310-cp310-win_amd64.whl (1.4 MB)\n",
      "     ---------------------------------------- 1.4/1.4 MB 1.4 MB/s eta 0:00:00\n",
      "Collecting scikit-image\n",
      "  Downloading https://pypi.tuna.tsinghua.edu.cn/packages/2f/2e/14cbb86b2df8a1ffbbf01c7a42743bb1614ddc2c087a040c08a7ccba8b56/scikit_image-0.20.0-cp310-cp310-win_amd64.whl (23.7 MB)\n",
      "     ---------------------------------------- 23.7/23.7 MB 1.4 MB/s eta 0:00:00\n",
      "Collecting python-bidi\n",
      "  Downloading https://pypi.tuna.tsinghua.edu.cn/packages/33/b0/f942d146a2f457233baaafd6bdf624eba8e0f665045b4abd69d1b62d097d/python_bidi-0.4.2-py2.py3-none-any.whl (30 kB)\n",
      "Collecting scipy\n",
      "  Downloading https://pypi.tuna.tsinghua.edu.cn/packages/ec/e3/b06ac3738bf365e89710205a471abe7dceec672a51c244b469bc5d1291c7/scipy-1.10.1-cp310-cp310-win_amd64.whl (42.5 MB)\n",
      "     ---------------------------------------- 42.5/42.5 MB 1.3 MB/s eta 0:00:00\n",
      "Collecting PyYAML\n",
      "  Downloading https://pypi.tuna.tsinghua.edu.cn/packages/b7/09/2f6f4851bbca08642fef087bade095edc3c47f28d1e7bff6b20de5262a77/PyYAML-6.0-cp310-cp310-win_amd64.whl (151 kB)\n",
      "     -------------------------------------- 151.7/151.7 KB 1.3 MB/s eta 0:00:00\n",
      "Collecting requests\n",
      "  Downloading https://pypi.tuna.tsinghua.edu.cn/packages/96/80/034ffeca15c0f4e01b7b9c6ad0fb704b44e190cde4e757edbd60be404c41/requests-2.30.0-py3-none-any.whl (62 kB)\n",
      "     ---------------------------------------- 62.5/62.5 KB 3.3 MB/s eta 0:00:00\n",
      "Collecting sympy\n",
      "  Downloading https://pypi.tuna.tsinghua.edu.cn/packages/2d/49/a2d03101e2d28ad528968144831d506344418ef1cc04839acdbe185889c2/sympy-1.11.1-py3-none-any.whl (6.5 MB)\n",
      "     ---------------------------------------- 6.5/6.5 MB 1.4 MB/s eta 0:00:00\n",
      "Collecting networkx\n",
      "  Downloading https://pypi.tuna.tsinghua.edu.cn/packages/a8/05/9d4f9b78ead6b2661d6e8ea772e111fc4a9fbd866ad0c81906c11206b55e/networkx-3.1-py3-none-any.whl (2.1 MB)\n",
      "     ---------------------------------------- 2.1/2.1 MB 1.4 MB/s eta 0:00:00\n",
      "Collecting filelock\n",
      "  Downloading https://pypi.tuna.tsinghua.edu.cn/packages/ad/73/b094a662ae05cdc4ec95bc54e434e307986a5de5960166b8161b7c1373ee/filelock-3.12.0-py3-none-any.whl (10 kB)\n",
      "Collecting jinja2\n",
      "  Downloading https://pypi.tuna.tsinghua.edu.cn/packages/bc/c3/f068337a370801f372f2f8f6bad74a5c140f6fda3d9de154052708dd3c65/Jinja2-3.1.2-py3-none-any.whl (133 kB)\n",
      "     -------------------------------------- 133.1/133.1 KB 1.3 MB/s eta 0:00:00\n",
      "Requirement already satisfied: typing-extensions in d:\\anaconda\\envs\\mypyen\\lib\\site-packages (from torch->easyocr) (4.5.0)\n",
      "Requirement already satisfied: six in d:\\anaconda\\envs\\mypyen\\lib\\site-packages (from python-bidi->easyocr) (1.16.0)\n",
      "Collecting lazy_loader>=0.1\n",
      "  Downloading https://pypi.tuna.tsinghua.edu.cn/packages/a1/a8/c41f46b47a381bd60a40c0ef00d2fd1722b743b178f9c1cec0da949043de/lazy_loader-0.2-py3-none-any.whl (8.6 kB)\n",
      "Collecting imageio>=2.4.1\n",
      "  Downloading https://pypi.tuna.tsinghua.edu.cn/packages/e9/67/98ed2279fcd66cc50112abb8f5a3de4526307dc43a16d220d7b48afd113a/imageio-2.28.1-py3-none-any.whl (3.4 MB)\n",
      "     ---------------------------------------- 3.4/3.4 MB 1.3 MB/s eta 0:00:00\n",
      "Collecting PyWavelets>=1.1.1\n",
      "  Downloading https://pypi.tuna.tsinghua.edu.cn/packages/35/12/f1a4f72b5d71497e4200e71e253cc747077d8570b55693faaa7b81fb6dff/PyWavelets-1.4.1-cp310-cp310-win_amd64.whl (4.2 MB)\n",
      "     ---------------------------------------- 4.2/4.2 MB 1.3 MB/s eta 0:00:00\n",
      "Collecting tifffile>=2019.7.26\n",
      "  Downloading https://pypi.tuna.tsinghua.edu.cn/packages/93/86/2ed10947a1891ceb86b084153fac06877fdec38a5ed69bd9286eefab3d44/tifffile-2023.4.12-py3-none-any.whl (219 kB)\n",
      "     -------------------------------------- 219.4/219.4 KB 1.3 MB/s eta 0:00:00\n",
      "Requirement already satisfied: packaging>=20.0 in d:\\anaconda\\envs\\mypyen\\lib\\site-packages (from scikit-image->easyocr) (23.1)\n",
      "Collecting MarkupSafe>=2.0\n",
      "  Downloading https://pypi.tuna.tsinghua.edu.cn/packages/02/2c/18d55e5df6a9ea33709d6c33e08cb2e07d39e20ad05d8c6fbf9c9bcafd54/MarkupSafe-2.1.2-cp310-cp310-win_amd64.whl (16 kB)\n",
      "Collecting urllib3<3,>=1.21.1\n",
      "  Downloading https://pypi.tuna.tsinghua.edu.cn/packages/4b/1d/f8383ef593114755429c307449e7717b87044b3bcd5f7860b89b1f759e34/urllib3-2.0.2-py3-none-any.whl (123 kB)\n",
      "     -------------------------------------- 123.2/123.2 KB 1.0 MB/s eta 0:00:00\n",
      "Collecting certifi>=2017.4.17\n",
      "  Downloading https://pypi.tuna.tsinghua.edu.cn/packages/9d/19/59961b522e6757f0c9097e4493fa906031b95b3ebe9360b2c3083561a6b4/certifi-2023.5.7-py3-none-any.whl (156 kB)\n",
      "     -------------------------------------- 157.0/157.0 KB 1.3 MB/s eta 0:00:00\n",
      "Collecting charset-normalizer<4,>=2\n",
      "  Downloading https://pypi.tuna.tsinghua.edu.cn/packages/05/f3/86b5fcb5c8fe8b4231362918a7c4d8f549c56561c5fdb495a3c5b41c6862/charset_normalizer-3.1.0-cp310-cp310-win_amd64.whl (97 kB)\n",
      "     ---------------------------------------- 97.1/97.1 KB 1.1 MB/s eta 0:00:00\n",
      "Collecting idna<4,>=2.5\n",
      "  Downloading https://pypi.tuna.tsinghua.edu.cn/packages/fc/34/3030de6f1370931b9dbb4dad48f6ab1015ab1d32447850b9fc94e60097be/idna-3.4-py3-none-any.whl (61 kB)\n",
      "     ---------------------------------------- 61.5/61.5 KB 1.7 MB/s eta 0:00:00\n",
      "Collecting mpmath>=0.19\n",
      "  Downloading https://pypi.tuna.tsinghua.edu.cn/packages/43/e3/7d92a15f894aa0c9c4b49b8ee9ac9850d6e63b03c9c32c0367a13ae62209/mpmath-1.3.0-py3-none-any.whl (536 kB)\n",
      "     -------------------------------------- 536.2/536.2 KB 1.2 MB/s eta 0:00:00\n",
      "Installing collected packages: pyclipper, ninja, mpmath, urllib3, tifffile, sympy, Shapely, scipy, PyYAML, PyWavelets, python-bidi, Pillow, opencv-python-headless, networkx, MarkupSafe, lazy_loader, idna, filelock, charset-normalizer, certifi, requests, jinja2, imageio, torch, scikit-image, torchvision, easyocr\n",
      "Successfully installed MarkupSafe-2.1.2 Pillow-9.5.0 PyWavelets-1.4.1 PyYAML-6.0 Shapely-2.0.1 certifi-2023.5.7 charset-normalizer-3.1.0 easyocr-1.6.2 filelock-3.12.0 idna-3.4 imageio-2.28.1 jinja2-3.1.2 lazy_loader-0.2 mpmath-1.3.0 networkx-3.1 ninja-1.11.1 opencv-python-headless-4.5.4.60 pyclipper-1.3.0.post4 python-bidi-0.4.2 requests-2.30.0 scikit-image-0.20.0 scipy-1.10.1 sympy-1.11.1 tifffile-2023.4.12 torch-2.0.0 torchvision-0.15.1 urllib3-2.0.2\n",
      "Note: you may need to restart the kernel to use updated packages.\n"
     ]
    }
   ],
   "source": [
    "pip install easyocr Pillow"
   ]
  },
  {
   "cell_type": "code",
   "execution_count": null,
   "id": "4c51531d",
   "metadata": {},
   "outputs": [],
   "source": [
    "pip install opencv-python-headless"
   ]
  },
  {
   "cell_type": "code",
   "execution_count": 2,
   "id": "9ec88121",
   "metadata": {},
   "outputs": [
    {
     "name": "stdout",
     "output_type": "stream",
     "text": [
      "Looking in indexes: https://pypi.tuna.tsinghua.edu.cn/simple\n",
      "Could not fetch URL https://pypi.tuna.tsinghua.edu.cn/simple/pytesseract/: There was a problem confirming the ssl certificate: HTTPSConnectionPool(host='pypi.tuna.tsinghua.edu.cn', port=443): Max retries exceeded with url: /simple/pytesseract/ (Caused by SSLError(SSLZeroReturnError(6, 'TLS/SSL connection has been closed (EOF) (_ssl.c:997)'))) - skipping\n",
      "Note: you may need to restart the kernel to use updated packages.\n"
     ]
    },
    {
     "name": "stderr",
     "output_type": "stream",
     "text": [
      "WARNING: Retrying (Retry(total=4, connect=None, read=None, redirect=None, status=None)) after connection broken by 'SSLError(SSLZeroReturnError(6, 'TLS/SSL connection has been closed (EOF) (_ssl.c:997)'))': /simple/pytesseract/\n",
      "WARNING: Retrying (Retry(total=3, connect=None, read=None, redirect=None, status=None)) after connection broken by 'SSLError(SSLZeroReturnError(6, 'TLS/SSL connection has been closed (EOF) (_ssl.c:997)'))': /simple/pytesseract/\n",
      "WARNING: Retrying (Retry(total=2, connect=None, read=None, redirect=None, status=None)) after connection broken by 'SSLError(SSLZeroReturnError(6, 'TLS/SSL connection has been closed (EOF) (_ssl.c:997)'))': /simple/pytesseract/\n",
      "WARNING: Retrying (Retry(total=1, connect=None, read=None, redirect=None, status=None)) after connection broken by 'SSLError(SSLZeroReturnError(6, 'TLS/SSL connection has been closed (EOF) (_ssl.c:997)'))': /simple/pytesseract/\n",
      "WARNING: Retrying (Retry(total=0, connect=None, read=None, redirect=None, status=None)) after connection broken by 'SSLError(SSLZeroReturnError(6, 'TLS/SSL connection has been closed (EOF) (_ssl.c:997)'))': /simple/pytesseract/\n",
      "ERROR: Could not find a version that satisfies the requirement pytesseract (from versions: none)\n",
      "ERROR: No matching distribution found for pytesseract\n"
     ]
    }
   ],
   "source": [
    "pip install pytesseract"
   ]
  },
  {
   "cell_type": "code",
   "execution_count": 10,
   "id": "624469a0",
   "metadata": {
    "ExecuteTime": {
     "end_time": "2023-05-08T08:58:36.120450Z",
     "start_time": "2023-05-08T08:58:34.411982Z"
    }
   },
   "outputs": [
    {
     "name": "stdout",
     "output_type": "stream",
     "text": [
      "图像中的文字：\n",
      "着鼻【二 灵 票 代 硕 5510O2IIOiiI\n",
      ": 河 厂 古 李 FF 一 浩 必\n",
      "国 咤 t 四 川 增 倦 英 界 雷 葛 通 发 票 sxsmsmm\n",
      "晕. …乞菅菩_二戛 cnsnsua - 网 并 粽 期 ; 2022 年 1 月 02 月\n",
      "机 腾 描 号 : 66LIS01HMS80 校 验 码 :12345 62135 38388 80352\n",
      "名 称 : 四 0 伟 学 团 | 01>41<4-*58+493*6868*77>*+ 14\n",
      "纳 狼 人 识 别 叶 :121000004000091949 创 | 《309767589<0+----8x1>225782\n",
      "地 址 . 电 话 >/42953*590<+58<493+6865+27\n",
      "开 户 行 R 货 号 区 | “>4<xkx29763589<4++99>+87640\n",
      "贾 物 戛 应 戛 劾 务 、 服 务 吊 祚 ] 规 根 送 号 单 价 伟 颧 东 定 税 题\n",
      "* 樊 设 服 务 塘 钟 费 用 E 25100| 克 程 t*-\n",
      "司 认 w251.00 E\n",
      "E @ 及 传 伸 拐 宝 罡 蓬 (KSJg251.00\n",
      "誓壬 称 : 国 家 税 务 怡 局 成 郭 市 秋 务 局 发 颊 仪 五 f 汀 | 仪 18EaE0mtmenNeREE3F\n",
      "纳 税 人 识 别 躬 : 510] 0000DK00328 ( 开 技 兵 】 | 友 深 区 弃 红 妮 荣 庞 X\n",
      "地 址 、 电 话 : 四 川 候 成 都 市 友 洪 区 西 航 淡 街 逊 1368808838 E\n",
      "E [ 仁 开 发 粥 和 尿 章 (0\n",
      "政 政 人 E E 错 的 方 肇 ) 51010000\n",
      "\n"
     ]
    }
   ],
   "source": [
    "import cv2\n",
    "import pytesseract\n",
    "from PIL import Image\n",
    "import matplotlib.pyplot as plt\n",
    "config = '--psm 6 --oem 3'\n",
    "text = pytesseract.image_to_string(binary_image, lang='chi_sim', config=config)\n",
    "print(\"图像中的文字：\")\n",
    "print(text)"
   ]
  },
  {
   "cell_type": "code",
   "execution_count": 11,
   "id": "e72c8bc6",
   "metadata": {
    "ExecuteTime": {
     "start_time": "2023-05-08T09:22:54.258Z"
    }
   },
   "outputs": [
    {
     "name": "stderr",
     "output_type": "stream",
     "text": [
      "Using CPU. Note: This module is much faster with a GPU.\n"
     ]
    },
    {
     "name": "stdout",
     "output_type": "stream",
     "text": [
      "图像中的文字：\n",
      "[([[755, 25], [915, 25], [915, 45], [755, 45]], '发票代码:051002100111', 0.582056708306415), ([[182, 50], [240, 50], [240, 82], [182, 82]], '代开', 0.8660173754463055), ([[341, 39], [730, 39], [730, 89], [341, 89]], '四川增停魏垂孟普通发票', 0.00283647838528056), ([[754, 52], [886, 52], [886, 76], [754, 76]], '发票号码:94589091', 0.6000636861698239), ([[491, 89], [575, 89], [575, 105], [491, 105]], '罔窕趱窑毖显', 1.3966609931047127e-05), ([[753, 85], [957, 85], [957, 105], [753, 105]], '开票日期: 2022年11月02日', 0.5081162993869236), ([[53, 115], [223, 115], [223, 135], [53, 135]], '机器编号:  66103018439', 0.34197533207011926), ([[499, 117], [567, 117], [567, 135], [499, 135]], '.卅皆税笫岛', 1.066356462447898e-05), ([[752, 114], [994, 114], [994, 138], [752, 138]], '桉  验  码:72395  62135  33398 &0352', 0.20710665438340975), ([[161, 153], [253, 153], [253, 173], [161, 173]], '称:四川天学', 0.561916681574055), ([[660, 152], [1000, 152], [1000, 176], [660, 176]], '01>41<4-*58+493+6868*77>*/4', 0.5207701196809997), ([[84, 178], [418, 178], [418, 202], [84, 202]], '纳税人识别号:121000004000091949', 0.7586191634653576), ([[660, 178], [828, 178], [828, 202], [660, 202]], '+309767589<0+', 0.3648320653981775), ([[873, 181], [1001, 181], [1001, 201], [873, 201]], '8+1>225782', 0.587513234744205), ([[85, 205], [189, 205], [189, 225], [85, 225]], '地  址。电  话:', 0.599829714888656), ([[659, 204], [1002, 204], [1002, 228], [659, 228]], '>/42953*590<*58<493+6865*27', 0.5685207414322544), ([[51, 217], [69, 217], [69, 239], [51, 239]], '方', 0.8294229524169658), ([[84, 231], [188, 231], [188, 251], [84, 251]], '开户行及账号:', 0.854538550812244), ([[660, 230], [1002, 230], [1002, 254], [660, 254]], '>4<*七大29763589<4++99>+87640', 0.06191033171764845), ([[76, 256], [270, 256], [270, 280], [76, 280]], '货物或庾税劳务。服务名称', 0.04979527641932107), ([[312, 256], [380, 256], [380, 280], [312, 280]], '靓搭型号', 0.09750638157129288), ([[392, 256], [430, 256], [430, 280], [392, 280]], '单位', 0.9167115313678336), ([[474, 258], [528, 258], [528, 282], [474, 282]], '数  显', 0.038731593838172935), ([[595, 259], [643, 259], [643, 279], [595, 279]], '单  价', 0.2447311282157898), ([[839, 259], [873, 259], [873, 279], [839, 279]], '税宰', 0.6699151573083484), ([[931, 259], [981, 259], [981, 279], [931, 279]], '税  额', 0.7614358380021444), ([[48, 280], [190, 280], [190, 306], [48, 306]], '+篌饮服劳+甓饮赞罔', 0.0004771491895923963), ([[635, 283], [681, 283], [681, 303], [635, 303]], '251./', 0.11126377920802821), ([[789, 283], [873, 283], [873, 303], [789, 303]], '251.00| 免税', 0.3523940194744772), ([[749, 453], [801, 453], [801, 473], [749, 473]], '鱼251', 0.08242581784725189), ([[807, 457], [831, 457], [831, 473], [807, 473]], '00', 0.9901764438064157), ([[992, 458], [1022, 458], [1022, 466], [992, 466]], '声士尤', 0.08341593916232982), ([[105, 476], [220, 476], [220, 505], [105, 505]], '价税合计(大写}', 0.19687490954818207), ([[328, 480], [444, 480], [444, 504], [328, 504]], '贰佰伍拾壹圆蹩', 0.037127065981388055), ([[776, 480], [906, 480], [906, 504], [776, 504]], '(小写]251.00', 0.1403541154462663), ([[160, 512], [458, 512], [458, 536], [160, 536]], '称:国家税务总局成都市税穷局发霰代开五', 0.0041349014543474736), ([[528, 514], [606, 514], [606, 538], [528, 538]], '{代开秕关}', 0.16407879776493406), ([[640, 512], [994, 512], [994, 536], [640, 536]], '代开企业税号:92510116/戌647〈6#刈5戌开企业名称:', 0.0008746726452552111), ([[643, 531], [771, 531], [771, 551], [643, 551]], '欢流区丹红奶茶庋_', 0.05839557856096591), ([[83, 537], [380, 537], [380, 562], [83, 562]], '纳税人识别号: 51010000000328', 0.6143073183420287), ([[528, 538], [606, 538], [606, 562], [528, 562]], '{代开秕关}', 0.09404743723882185), ([[53, 549], [71, 549], [71, 571], [53, 571]], '售', 0.0007528196108244935), ([[84, 561], [491, 561], [491, 586], [84, 586]], '地  址。电  话:四川省成都市双流区西航港街逍13689068838', 0.05705378322018717), ([[829, 545], [1025, 545], [1025, 581], [829, 581]], '囤室税务总局咸郗*弱', 2.343855460426077e-06), ([[51, 573], [71, 573], [71, 595], [51, 595]], '方', 0.6925347018486718), ([[609, 577], [629, 577], [629, 599], [609, 599]], '注', 0.9792793811240621), ([[83, 587], [181, 587], [181, 607], [83, 607]], '开户行及账号', 0.8757802995312104), ([[512, 584], [602, 584], [602, 608], [512, 608]], '(完税凭证号', 0.6052674666283652), ([[840, 584], [1018, 584], [1018, 616], [840, 616]], '岱开发票专留章(叫', 0.0006233194044803715), ([[56, 618], [110, 618], [110, 642], [56, 642]], '收款人=', 0.05910172685980797), ([[333, 621], [375, 621], [375, 641], [333, 641]], '复核:', 0.030569682915757134), ([[542, 618], [670, 618], [670, 642], [542, 642]], '开票人:寄递中心', 0.3258913852016517), ([[756, 618], [830, 618], [830, 642], [756, 642]], '销售方: (-', 0.0647483205768517), ([[860, 624], [998, 624], [998, 654], [860, 654]], '51010000', 0.982270498708793)]\n"
     ]
    }
   ],
   "source": [
    "import cv2\n",
    "import easyocr\n",
    "from PIL import Image\n",
    "import numpy as np\n",
    "\n",
    "def preprocess_image(image_path):\n",
    "    image = cv2.imread(image_path)\n",
    "    gray = cv2.cvtColor(image, cv2.COLOR_BGR2GRAY)\n",
    "    thresh = cv2.adaptiveThreshold(gray, 255, cv2.ADAPTIVE_THRESH_GAUSSIAN_C, cv2.THRESH_BINARY, 11, 2)\n",
    "    return thresh\n",
    "\n",
    "def ocr_image(image_path):\n",
    "    preprocessed_image = preprocess_image(image_path)\n",
    "    pil_image = Image.fromarray(preprocessed_image)\n",
    "    \n",
    "    # 将 PIL 图像转换为 NumPy 数组\n",
    "    numpy_image = np.array(pil_image)\n",
    "\n",
    "    reader = easyocr.Reader(['ch_sim'], gpu=False)  # 设置为使用简体中文语言包\n",
    "    result = reader.readtext(numpy_image)\n",
    "\n",
    "    return result\n",
    "\n",
    "if __name__ == \"__main__\":\n",
    "    image_path = r\"C:\\Users\\ASUS\\Desktop\\picture\\invoice.jpeg\"\n",
    "    result = ocr_image(image_path)\n",
    "    print(\"图像中的文字：\")\n",
    "    print(result)"
   ]
  },
  {
   "cell_type": "code",
   "execution_count": 12,
   "id": "ac5388f7",
   "metadata": {},
   "outputs": [
    {
     "name": "stderr",
     "output_type": "stream",
     "text": [
      "Using CPU. Note: This module is much faster with a GPU.\n"
     ]
    },
    {
     "name": "stdout",
     "output_type": "stream",
     "text": [
      "图像中的文字：\n",
      "[([[416, 38], [574, 38], [574, 68], [416, 68]], '  026479162', 0.436317178359791), ([[521, 65], [573, 65], [573, 79], [521, 79]], '02417116', 0.09628993323508012), ([[437, 81], [551, 81], [551, 97], [437, 97]], \"#$日#' {(5\", 4.28323387568379e-05), ([[359, 108], [525, 108], [525, 126], [359, 126]], '14181463-9687+15/1+9143', 0.03285887451644607), ([[162, 123], [250, 123], [250, 135], [162, 135]], '61529+9#', 0.0037906191790304925), ([[361, 121], [513, 121], [513, 137], [361, 137]], '4444055712961+46 94146', 0.0074852520509377666), ([[358, 134], [524, 134], [524, 148], [358, 148]], '驹666101192+5621435313', 0.01641842125009768), ([[65, 151], [193, 151], [193, 167], [65, 167]], '4+&十 葸士井^[压{太芊', 9.517161294501949e-07), ([[199, 152], [283, 152], [283, 166], [199, 166]], '#1[', 0.01998777388822759), ([[359, 147], [525, 147], [525, 161], [359, 161]], '3496041#早+213414/4', 0.0013011455161577924), ([[57, 167], [153, 167], [153, 181], [57, 181]], '天甚~牛+,正忐1卉', 7.817525707505106e-07), ([[179, 169], [213, 169], [213, 183], [179, 183]], '母#_', 0.007011233363300562), ([[34, 186], [70, 186], [70, 194], [34, 194]], '虫弁9', 4.089545453732049e-05), ([[421, 187], [457, 187], [457, 201], [421, 201]], '[1', 5.8486836295836003e-05), ([[191, 273], [223, 273], [223, 287], [191, 287]], '}8', 0.3414659509883447), ([[389, 287], [451, 287], [451, 299], [389, 299]], '氧01血2', 5.588209005418738e-05), ([[519, 285], [549, 285], [549, 299], [519, 299]], '4', 0.0012044273284304158), ([[53, 301], [135, 301], [135, 317], [53, 317]], '鼻黛十爿 (大琴1', 0.0002093298745256409), ([[175, 303], [337, 303], [337, 319], [175, 319]], '岛~土竹奥卅#0眭苗爵互典贝丹4:', 7.88189690419783e-08), ([[463, 305], [511, 305], [511, 319], [463, 319]], '竿1』130', 0.005866291991846008), ([[93, 325], [227, 325], [227, 339], [93, 339]], '; 丐州女界宦覃川母声垄', 1.991659896068312e-06), ([[357, 329], [439, 329], [439, 343], [357, 343]], '干,岿孢尽4-匹氐', 2.2818608374412896e-06), ([[433, 320], [516, 320], [516, 345], [433, 345]], '张 「&眨', 2.4605354459305187e-07), ([[49, 335], [111, 335], [111, 349], [49, 349]], '5&4凸仂', 1.300046695920617e-05), ([[125, 340], [253, 340], [253, 354], [125, 354]], '91516112#512541巧', 2.47790640641922e-05), ([[389, 343], [435, 343], [435, 355], [389, 355]], '日#覃', 0.03517074226955343), ([[435, 339], [463, 339], [463, 355], [435, 355]], '倒', 0.0003798131199935252), ([[114, 356], [150, 356], [150, 362], [114, 362]], '', 0.0), ([[151, 355], [175, 355], [175, 367], [151, 367]], '申重南', 5.741043299588381e-06), ([[182, 356], [290, 356], [290, 364], [182, 364]], '09且100', 0.00013415253406888532), ([[446, 351], [529, 351], [529, 370], [446, 370]], '#1\"笛', 6.522076000692323e-05), ([[46, 356], [113, 356], [113, 380], [46, 380]], '#', 0.9874233974113764), ([[112, 370], [228, 370], [228, 378], [112, 378]], '47@4申量$]0]071', 1.3525079264047828e-07), ([[252, 372], [282, 372], [282, 378], [252, 378]], '515卅', 0.00460275262594223), ([[32, 376], [99, 376], [99, 393], [32, 393]], '4戌 人 +癍##', 5.3288614265549635e-05), ([[185, 381], [237, 381], [237, 397], [185, 397]], '贝廿 +4贮', 0.00029849691171343065), ([[305, 381], [379, 381], [379, 397], [305, 397]], '丹本人+8', 0.009089120856144514), ([[421.6546544120074, 304.5201198532081], [460.7785756046363, 301.08530397475846], [462.3453455879926, 318.4798801467919], [422.2214243953637, 320.91469602524154]], '{9)', 0.024336951521526033)]\n"
     ]
    }
   ],
   "source": [
    "import cv2\n",
    "import easyocr\n",
    "from PIL import Image\n",
    "import numpy as np\n",
    "\n",
    "def preprocess_image(image_path):\n",
    "    image = cv2.imread(image_path)\n",
    "    gray = cv2.cvtColor(image, cv2.COLOR_BGR2GRAY)\n",
    "    thresh = cv2.adaptiveThreshold(gray, 255, cv2.ADAPTIVE_THRESH_GAUSSIAN_C, cv2.THRESH_BINARY, 11, 2)\n",
    "    return thresh\n",
    "\n",
    "def ocr_image(image_path):\n",
    "    preprocessed_image = preprocess_image(image_path)\n",
    "    pil_image = Image.fromarray(preprocessed_image)\n",
    "    \n",
    "    # 将 PIL 图像转换为 NumPy 数组\n",
    "    numpy_image = np.array(pil_image)\n",
    "\n",
    "    reader = easyocr.Reader(['ch_sim'], gpu=False)  # 设置为使用简体中文语言包\n",
    "    result = reader.readtext(numpy_image)\n",
    "\n",
    "    return result\n",
    "\n",
    "if __name__ == \"__main__\":\n",
    "    image_path = r\"C:\\Users\\ASUS\\Desktop\\picture\\picture.png\"\n",
    "    result = ocr_image(image_path)\n",
    "    print(\"图像中的文字：\")\n",
    "    print(result)"
   ]
  },
  {
   "cell_type": "code",
   "execution_count": null,
   "id": "97b85280",
   "metadata": {
    "ExecuteTime": {
     "start_time": "2023-05-08T10:33:45.106Z"
    }
   },
   "outputs": [],
   "source": [
    "import easyocr\n",
    "import os\n",
    "os.environ['KMP_DUPLICATE_LIB_OK'] = 'TRUE'\n",
    "\n",
    "\n",
    "# 创建一个 Reader 实例，使用中文简体模型，禁用 GPU 加速\n",
    "reader = easyocr.Reader(['ch_sim'], gpu=False)\n",
    "\n",
    "# 读取图片中的文本\n",
    "image_path = binary_image\n",
    "result = reader.readtext(image_path)\n",
    "\n",
    "# 输出结果\n",
    "print(\"图像中的文字：\")\n",
    "for text_info in result:\n",
    "    print(text_info[1])"
   ]
  },
  {
   "cell_type": "code",
   "execution_count": 13,
   "id": "f05f8ea1",
   "metadata": {},
   "outputs": [
    {
     "name": "stderr",
     "output_type": "stream",
     "text": [
      "Using CPU. Note: This module is much faster with a GPU.\n"
     ]
    },
    {
     "name": "stdout",
     "output_type": "stream",
     "text": [
      "图像中的文字：\n",
      "蒽 02647316\n",
      "046411\n",
      "44425518+\n",
      "@0\"卫?\n",
      "4421079959-95157+19/1*+407\n",
      "21;'3275751\n",
      "(220457+896(19 ]\n",
      "50635624014953-\n",
      "015145\n",
      "37976101\n",
      "109031194\n",
      "「\n",
      "/2\n",
      "9]10.3\n",
      "1@\n",
      "冒@5~ |〈工)\n",
      "刀04』伫坌|蠹舀 ^鬟4\n",
      "1\n",
      "914110.59\n",
      "5川5 +鬲(葚4 2\n",
      "08』\n",
      "窳羸 \n",
      "5151011244617540'』\n",
      "[(+\n",
      " \n",
      "[ \n",
      "卫\n"
     ]
    }
   ],
   "source": [
    "import easyocr\n",
    "\n",
    "def ocr_image(image_path):\n",
    "    reader = easyocr.Reader(['ch_sim'], gpu=False)  # 设置为使用简体中文语言包\n",
    "    result = reader.readtext(image_path)\n",
    "    return result\n",
    "\n",
    "if __name__ == \"__main__\":\n",
    "    image_path = r\"C:\\Users\\ASUS\\Desktop\\picture\\picture.png\"\n",
    "    result = ocr_image(image_path)\n",
    "    print(\"图像中的文字：\")\n",
    "    for res in result:\n",
    "        print(res[1])"
   ]
  },
  {
   "cell_type": "code",
   "execution_count": null,
   "id": "013cb4b7",
   "metadata": {},
   "outputs": [],
   "source": []
  }
 ],
 "metadata": {
  "kernelspec": {
   "display_name": "Python 3",
   "language": "python",
   "name": "python3"
  },
  "language_info": {
   "codemirror_mode": {
    "name": "ipython",
    "version": 3
   },
   "file_extension": ".py",
   "mimetype": "text/x-python",
   "name": "python",
   "nbconvert_exporter": "python",
   "pygments_lexer": "ipython3",
   "version": "3.10.1"
  },
  "toc": {
   "base_numbering": 1,
   "nav_menu": {},
   "number_sections": true,
   "sideBar": true,
   "skip_h1_title": false,
   "title_cell": "Table of Contents",
   "title_sidebar": "Contents",
   "toc_cell": false,
   "toc_position": {},
   "toc_section_display": true,
   "toc_window_display": false
  },
  "varInspector": {
   "cols": {
    "lenName": 16,
    "lenType": 16,
    "lenVar": 40
   },
   "kernels_config": {
    "python": {
     "delete_cmd_postfix": "",
     "delete_cmd_prefix": "del ",
     "library": "var_list.py",
     "varRefreshCmd": "print(var_dic_list())"
    },
    "r": {
     "delete_cmd_postfix": ") ",
     "delete_cmd_prefix": "rm(",
     "library": "var_list.r",
     "varRefreshCmd": "cat(var_dic_list()) "
    }
   },
   "types_to_exclude": [
    "module",
    "function",
    "builtin_function_or_method",
    "instance",
    "_Feature"
   ],
   "window_display": false
  }
 },
 "nbformat": 4,
 "nbformat_minor": 5
}
